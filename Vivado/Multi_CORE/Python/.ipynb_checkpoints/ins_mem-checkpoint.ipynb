{
 "cells": [
  {
   "cell_type": "code",
   "execution_count": 1,
   "metadata": {},
   "outputs": [],
   "source": [
    "fd = open(\"algo.txt\", \"r\")\n",
    "machine_code = open(\"ins_mem.txt\", \"w\")"
   ]
  },
  {
   "cell_type": "code",
   "execution_count": 2,
   "metadata": {},
   "outputs": [],
   "source": [
    "comp_dic = {\"NOOP\": \"00\", \"JPNZM\": \"10\", \"JPNZK\":\"11\", \"JPNZN\":\"12\", \"COPYRm1\":\"20\", \"COPYRk1\":\"21\", \"COPYRn1\":\"22\", \"LOADC1\":\"30\", \"LOADC2\":\"31\", \"STORE\":\"40\", \"ASSIGNC1\":\"50\", \"ASSIGNC2\":\"51\", \"ASSIGNC3\":\"52\", \"RESETALL\":\"60\", \"RESETRn2\":\"61\", \"RESETRk2\":\"62\", \"RESETRt\":\"63\", \"MOVERp\":\"70\", \"MOVERt\":\"71\", \"MOVEC1\":\"72\", \"SETC1\":\"80\", \"SETDR\":\"81\", \"MULRp\":\"90\", \"ADDRt\":\"A0\", \"ADDRm1\":\"A1\", \"ADDRm2\":\"A2\", \"INCC2\":\"B0\", \"INCC3\":\"B1\", \"INCRm2\":\"B2\", \"INCRk2\":\"B3\", \"INCRn2\":\"B4\", \"END\":\"C0\"}"
   ]
  },
  {
   "cell_type": "code",
   "execution_count": 3,
   "metadata": {},
   "outputs": [
    {
     "name": "stdout",
     "output_type": "stream",
     "text": [
      "COPYRm1\n",
      "\n",
      "20\n",
      "T1\n",
      "\n",
      "COPYRn1\n",
      "\n",
      "22\n",
      "T2\n",
      "\n",
      "COPYRk1\n",
      "\n",
      "21\n",
      "T3\n",
      "\n",
      "RESETALL\n",
      "\n",
      "60\n",
      "ASSIGNC3\n",
      "\n",
      "52\n",
      "T6\n",
      "\n",
      "ASSIGNC2\n",
      "\n",
      "51\n",
      "T5\n",
      "\n",
      "ASSIGNC1\n",
      "\n",
      "50\n",
      "T4\n",
      "\n",
      "SETC1\n",
      "\n",
      "80\n",
      "ADDRm2\n",
      "\n",
      "A2\n",
      "MOVEC1\n",
      "\n",
      "72\n",
      "LOADC1\n",
      "\n",
      "30\n",
      "SETDR\n",
      "\n",
      "81\n",
      "MOVERp\n",
      "\n",
      "70\n",
      "LOADC2\n",
      "\n",
      "31\n",
      "SETDR\n",
      "\n",
      "81\n",
      "MULRp\n",
      "\n",
      "90\n",
      "ADDRt\n",
      "\n",
      "A0\n",
      "MOVERt\n",
      "\n",
      "71\n",
      "SETC1\n",
      "\n",
      "80\n",
      "ADDRm1\n",
      "\n",
      "A1\n",
      "MOVEC1\n",
      "\n",
      "72\n",
      "INCC2\n",
      "\n",
      "B0\n",
      "INCRn2\n",
      "\n",
      "B4\n",
      "JPNZN\n",
      "\n",
      "12\n",
      "11\n",
      "\n",
      "STORE\n",
      "\n",
      "40\n",
      "INCC3\n",
      "\n",
      "B1\n",
      "RESETRn2\n",
      "\n",
      "61\n",
      "INCRk2\n",
      "\n",
      "B3\n",
      "JPNZK\n",
      "\n",
      "11\n",
      "0B\n",
      "\n",
      "RESETRk2\n",
      "\n",
      "62\n",
      "INCRm2\n",
      "\n",
      "B2\n",
      "JPNZM\n",
      "\n",
      "10\n",
      "09\n",
      "\n",
      "END\n",
      "C0\n",
      "20\n",
      "T1\n",
      "22\n",
      "T2\n",
      "21\n",
      "T3\n",
      "60\n",
      "52\n",
      "T6\n",
      "51\n",
      "T5\n",
      "50\n",
      "T4\n",
      "80\n",
      "A2\n",
      "72\n",
      "30\n",
      "81\n",
      "70\n",
      "31\n",
      "81\n",
      "90\n",
      "A0\n",
      "71\n",
      "80\n",
      "A1\n",
      "72\n",
      "B0\n",
      "B4\n",
      "12\n",
      "11\n",
      "40\n",
      "B1\n",
      "61\n",
      "B3\n",
      "11\n",
      "0B\n",
      "62\n",
      "B2\n",
      "10\n",
      "09\n",
      "C0\n",
      "\n"
     ]
    }
   ],
   "source": [
    "mchine_txt = \"\"\n",
    "addr_flag = False\n",
    "for line in fd:\n",
    "    line_1 = line.strip()\n",
    "    print (line)\n",
    "    if (addr_flag):\n",
    "        mchine_txt = mchine_txt + line_1 + \"\\n\"\n",
    "        addr_flag = False\n",
    "        continue\n",
    "    else:\n",
    "        op_code = comp_dic.get(line_1)\n",
    "        print (op_code)\n",
    "        if (op_code == None):\n",
    "            continue\n",
    "        mchine_txt = mchine_txt + op_code + \"\\n\"\n",
    "    \n",
    "    if (line_1 == \"COPYRm1\" or line_1 == \"COPYRk1\" or line_1 == \"COPYRn1\" or line_1 == \"ASSIGNC1\" or line_1 == \"ASSIGNC2\"or line_1 == \"ASSIGNC3\"or line_1 == \"JPNZM\" or line_1 == \"JPNZK\" or line_1 == \"JPNZN\"):\n",
    "        addr_flag = True\n",
    "\n",
    "    \n",
    "    \n",
    "print (mchine_txt)"
   ]
  },
  {
   "cell_type": "code",
   "execution_count": 4,
   "metadata": {},
   "outputs": [
    {
     "data": {
      "text/plain": [
       "125"
      ]
     },
     "execution_count": 4,
     "metadata": {},
     "output_type": "execute_result"
    }
   ],
   "source": [
    "machine_code.write(mchine_txt.strip())"
   ]
  },
  {
   "cell_type": "code",
   "execution_count": 5,
   "metadata": {},
   "outputs": [],
   "source": [
    "fd.close()\n",
    "machine_code.close()"
   ]
  },
  {
   "cell_type": "code",
   "execution_count": 6,
   "metadata": {},
   "outputs": [
    {
     "name": "stdout",
     "output_type": "stream",
     "text": [
      "{'NOOP': '00', 'JPNZM': '10', 'JPNZK': '11', 'JPNZN': '12', 'COPYRm1': '20', 'COPYRk1': '21', 'COPYRn1': '22', 'LOADC1': '30', 'LOADC2': '31', 'STORE': '40', 'ASSIGNC1': '50', 'ASSIGNC2': '51', 'ASSIGNC3': '52', 'RESETALL': '60', 'RESETRn2': '61', 'RESETRk2': '62', 'RESETRt': '63', 'MOVERp': '70', 'MOVERt': '71', 'MOVEC1': '72', 'SETC1': '80', 'SETDR': '81', 'MULRp': '90', 'ADDRt': 'A0', 'ADDRm1': 'A1', 'ADDRm2': 'A2', 'INCC2': 'B0', 'INCC3': 'B1', 'INCRm2': 'B2', 'INCRk2': 'B3', 'INCRn2': 'B4', 'END': 'C0'}\n"
     ]
    }
   ],
   "source": [
    "print (comp_dic)"
   ]
  }
 ],
 "metadata": {
  "kernelspec": {
   "display_name": "Python 3",
   "language": "python",
   "name": "python3"
  },
  "language_info": {
   "codemirror_mode": {
    "name": "ipython",
    "version": 3
   },
   "file_extension": ".py",
   "mimetype": "text/x-python",
   "name": "python",
   "nbconvert_exporter": "python",
   "pygments_lexer": "ipython3",
   "version": "3.6.4"
  }
 },
 "nbformat": 4,
 "nbformat_minor": 2
}
