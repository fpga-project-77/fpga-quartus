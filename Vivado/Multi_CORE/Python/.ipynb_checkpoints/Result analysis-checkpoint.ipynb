{
 "cells": [
  {
   "cell_type": "code",
   "execution_count": 1,
   "metadata": {},
   "outputs": [],
   "source": [
    "from ast import literal_eval"
   ]
  },
  {
   "cell_type": "code",
   "execution_count": 2,
   "metadata": {},
   "outputs": [],
   "source": [
    "final = open (\"final.txt\", \"a\")\n",
    "result = open (\"result.txt\", \"r\")\n",
    "d_mem = open (\"data_mem.txt\", \"r\")"
   ]
  },
  {
   "cell_type": "code",
   "execution_count": 3,
   "metadata": {},
   "outputs": [],
   "source": [
    "core_1_rows = int(d_mem.readline())\n",
    "core_2_rows = int(d_mem.readline())\n",
    "core_3_rows = int(d_mem.readline())\n",
    "core_4_rows = int(d_mem.readline())\n",
    "core_rows = [core_1_rows, core_2_rows, core_3_rows, core_4_rows]\n",
    "M = int(d_mem.readline())\n",
    "N = int(d_mem.readline())"
   ]
  },
  {
   "cell_type": "code",
   "execution_count": 4,
   "metadata": {},
   "outputs": [],
   "source": [
    "mem_start_core_1 = 127 + 3\n",
    "mem_start_core_2 = 159 + 3\n",
    "mem_start_core_3 = 191 + 3\n",
    "mem_start_core_4 = 223 + 3"
   ]
  },
  {
   "cell_type": "code",
   "execution_count": 5,
   "metadata": {},
   "outputs": [
    {
     "name": "stdout",
     "output_type": "stream",
     "text": [
      "[[55, 35, 115], [35, 55, 95], [55, 35, 115], []]\n"
     ]
    }
   ],
   "source": [
    "count = 0\n",
    "matt = []\n",
    "row = []\n",
    "for i in result:\n",
    "    \n",
    "    if((mem_start_core_1 <= count < mem_start_core_2) and (i != \"xx\\n\")):\n",
    "        x = '0x' + i.strip()\n",
    "        row.append(literal_eval(x))\n",
    "    if (count == mem_start_core_2):\n",
    "        matt.append(row)\n",
    "        row = []\n",
    "\n",
    "    if((mem_start_core_2 <= count < mem_start_core_3) and (i != \"xx\\n\")):\n",
    "        x = '0x' + i.strip()\n",
    "        row.append(literal_eval(x))\n",
    "    if (count == mem_start_core_3):\n",
    "        matt.append(row)\n",
    "        row = []\n",
    "              \n",
    "    if((mem_start_core_3 <= count < mem_start_core_4) and (i != \"xx\\n\")):\n",
    "        x = '0x' + i.strip()\n",
    "        row.append(literal_eval(x))\n",
    "    if (count == mem_start_core_4):\n",
    "        matt.append(row)\n",
    "        row = []\n",
    "\n",
    "    if((mem_start_core_4 <= count) and (i != \"xx\\n\")):\n",
    "        x = '0x' + i.strip()\n",
    "        row.append(literal_eval(x))\n",
    "    if (count == 255):\n",
    "        matt.append(row)\n",
    "        row = []\n",
    "    count += 1\n",
    "    \n",
    "print (matt)"
   ]
  },
  {
   "cell_type": "code",
   "execution_count": 6,
   "metadata": {},
   "outputs": [
    {
     "name": "stdout",
     "output_type": "stream",
     "text": [
      "[1, 1, 1, 0]\n",
      "[[55, 35, 115], [35, 55, 95], [55, 35, 115]]\n"
     ]
    }
   ],
   "source": [
    "#matt = [[55, 35, 115,35, 55, 95,55, 35, 115]]\n",
    "#core_rows = [3,0,0,0]\n",
    "\n",
    "final_mat = []\n",
    "print (core_rows)\n",
    "for j in range(4):\n",
    "    if(core_rows[j] > 1):\n",
    "        l = len(matt[j])\n",
    "        print(l)\n",
    "        no_per_row = int(l/core_rows[j])\n",
    "        print (no_per_row)\n",
    "        counter = 0\n",
    "        while (counter != l):\n",
    "            row = []\n",
    "            for i in range(no_per_row):\n",
    "                row.append(matt[j][counter])\n",
    "                counter +=1\n",
    "            final_mat.append(row)\n",
    "            #counter += no_per_row\n",
    "    elif (core_rows[j] == 1):\n",
    "        final_mat.append(matt[j])\n",
    "print (final_mat)"
   ]
  },
  {
   "cell_type": "code",
   "execution_count": 7,
   "metadata": {},
   "outputs": [],
   "source": [
    "final.write(\"\\n\" + \"\\n\" + \"Multiplied Matrix(From FPGA)\" + \"\\n\")\n",
    "for i in final_mat:\n",
    "    final.write(str(i)) \n",
    "    final.write(\"\\n\")\n",
    "final.close()"
   ]
  }
 ],
 "metadata": {
  "kernelspec": {
   "display_name": "Python 3",
   "language": "python",
   "name": "python3"
  },
  "language_info": {
   "codemirror_mode": {
    "name": "ipython",
    "version": 3
   },
   "file_extension": ".py",
   "mimetype": "text/x-python",
   "name": "python",
   "nbconvert_exporter": "python",
   "pygments_lexer": "ipython3",
   "version": "3.6.4"
  }
 },
 "nbformat": 4,
 "nbformat_minor": 2
}
