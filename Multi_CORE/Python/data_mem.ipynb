{
 "cells": [
  {
   "cell_type": "code",
   "execution_count": 1,
   "metadata": {},
   "outputs": [],
   "source": [
    "fd = open(\"matrix.txt\", \"r\")\n",
    "out = open(\"data_mem.txt\", \"w\")"
   ]
  },
  {
   "cell_type": "code",
   "execution_count": 2,
   "metadata": {},
   "outputs": [],
   "source": [
    "matrix1 = []\n",
    "matrix2 = []\n",
    "\n",
    "matrix1_flag = False\n",
    "matrix2_flag = False\n",
    "\n",
    "for line in fd:\n",
    "    \n",
    "    line1 = line.strip()\n",
    "    \n",
    "    if (line1 == \"Matrix 1:\"):\n",
    "        matrix1_flag = True\n",
    "        matrix2_flag = False\n",
    "        continue\n",
    "\n",
    "    if (line1 == \"Matrix 2:\"):\n",
    "        matrix1_flag = False\n",
    "        matrix2_flag = True\n",
    "        continue\n",
    "        \n",
    "    if(matrix1_flag):\n",
    "        matrix1.append(line1.split(\",\"))\n",
    "    \n",
    "    if(matrix2_flag):\n",
    "        matrix2.append(line1.split(\",\"))"
   ]
  },
  {
   "cell_type": "code",
   "execution_count": 3,
   "metadata": {},
   "outputs": [
    {
     "name": "stdout",
     "output_type": "stream",
     "text": [
      "[['1', '2', '3', '4', '5'], ['6', '7', '8', '9', '10'], ['11', '12', '13', '14', '15']]\n",
      "[['16', '17', '5'], ['18', '19', '6'], ['20', '21', '7'], ['22', '23', '8'], ['24', '25', '9']]\n"
     ]
    }
   ],
   "source": [
    "print (matrix1)\n",
    "print (matrix2)"
   ]
  },
  {
   "cell_type": "code",
   "execution_count": 4,
   "metadata": {},
   "outputs": [],
   "source": [
    "M = len(matrix1)\n",
    "N = len(matrix1[0])\n",
    "K = len(matrix2[0])"
   ]
  },
  {
   "cell_type": "code",
   "execution_count": 5,
   "metadata": {},
   "outputs": [
    {
     "name": "stdout",
     "output_type": "stream",
     "text": [
      "<class 'str'>\n"
     ]
    }
   ],
   "source": [
    "print(type(hex(M)))"
   ]
  },
  {
   "cell_type": "code",
   "execution_count": 6,
   "metadata": {},
   "outputs": [],
   "source": [
    "d_mem_txt = \"\"\n",
    "\n",
    "d_mem_txt = d_mem_txt + hex(M)[2:] + \"\\n\" + hex(N)[2:] + \"\\n\"\n",
    "\n",
    "for i in range(N):\n",
    "    for j in range(M):\n",
    "        d_mem_txt = d_mem_txt + hex(int(matrix1[j][i]))[2:] + \"\\n\"\n",
    "\n",
    "d_mem_txt = d_mem_txt + hex(K)[2:] + \"\\n\"\n",
    "        \n",
    "for k in range(K):\n",
    "    for l in range(N):\n",
    "        d_mem_txt = d_mem_txt + hex(int(matrix2[l][k]))[2:] + \"\\n\""
   ]
  },
  {
   "cell_type": "code",
   "execution_count": 7,
   "metadata": {},
   "outputs": [
    {
     "name": "stdout",
     "output_type": "stream",
     "text": [
      "3\n",
      "5\n",
      "1\n",
      "6\n",
      "b\n",
      "2\n",
      "7\n",
      "c\n",
      "3\n",
      "8\n",
      "d\n",
      "4\n",
      "9\n",
      "e\n",
      "5\n",
      "a\n",
      "f\n",
      "3\n",
      "10\n",
      "12\n",
      "14\n",
      "16\n",
      "18\n",
      "11\n",
      "13\n",
      "15\n",
      "17\n",
      "19\n",
      "5\n",
      "6\n",
      "7\n",
      "8\n",
      "9\n",
      "\n"
     ]
    }
   ],
   "source": [
    "print (d_mem_txt)"
   ]
  },
  {
   "cell_type": "code",
   "execution_count": 8,
   "metadata": {},
   "outputs": [],
   "source": [
    "out.write(d_mem_txt.strip())\n",
    "\n",
    "fd.close()\n",
    "out.close()"
   ]
  }
 ],
 "metadata": {
  "kernelspec": {
   "display_name": "Python 3",
   "language": "python",
   "name": "python3"
  },
  "language_info": {
   "codemirror_mode": {
    "name": "ipython",
    "version": 3
   },
   "file_extension": ".py",
   "mimetype": "text/x-python",
   "name": "python",
   "nbconvert_exporter": "python",
   "pygments_lexer": "ipython3",
   "version": "3.6.4"
  }
 },
 "nbformat": 4,
 "nbformat_minor": 2
}
