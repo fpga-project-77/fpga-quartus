{
 "cells": [
  {
   "cell_type": "code",
   "execution_count": 1,
   "metadata": {},
   "outputs": [],
   "source": [
    "fd = open(\"matrix.txt\", \"r\")\n",
    "out = open(\"D:\\\\Academic\\\\ACA\\\\SEM5 TRONIC ACA\\\\SEMESTER 5\\\\CSD\\\\FPGA\\\\MULTI_CORE_edit\\\\data_mem.txt\", \"w\")\n",
    "final = open (\"final.txt\", \"w\")"
   ]
  },
  {
   "cell_type": "code",
   "execution_count": 2,
   "metadata": {},
   "outputs": [
    {
     "name": "stdout",
     "output_type": "stream",
     "text": [
      "[['1', '2', '2', '1', '1', '2', '1'], ['1', '1', '1', '2', '1', '1', '1'], ['1', '2', '1', '1', '1', '1', '1'], ['5', '2', '1', '2', '1', '1', '1'], ['1', '1', '1', '1', '1', '3', '1'], ['1', '1', '4', '1', '1', '8', '1'], ['1', '4', '1', '1', '6', '1', '1'], ['1', '1', '6', '1', '1', '3', '1'], ['1', '2', '4', '1', '3', '1', '1'], ['1', '1', '3', '3', '1', '1', '1']]\n",
      "[['1', '1', '1', '1'], ['1', '3', '1', '1'], ['1', '1', '1', '6'], ['1', '5', '1', '1'], ['1', '1', '1', '1'], ['1', '1', '1', '1'], ['1', '1', '2', '1']]\n"
     ]
    }
   ],
   "source": [
    "matrix1 = []\n",
    "matrix2 = []\n",
    "no_of_cores = 0\n",
    "\n",
    "matrix1_flag = False\n",
    "matrix2_flag = False\n",
    "no_of_core_flag = False\n",
    "\n",
    "for line in fd:\n",
    "    final.write(line)\n",
    "    line1 = line.strip()\n",
    "    \n",
    "    if (line1 == \"No of Cores:\"):\n",
    "        no_of_core_flag = True\n",
    "        continue        \n",
    "    \n",
    "    if (line1 == \"Matrix 1:\"):\n",
    "        matrix1_flag = True\n",
    "        matrix2_flag = False\n",
    "        continue\n",
    "\n",
    "    if (line1 == \"Matrix 2:\"):\n",
    "        matrix1_flag = False\n",
    "        matrix2_flag = True\n",
    "        continue\n",
    "        \n",
    "    if(matrix1_flag):\n",
    "        matrix1.append(line1.split(\",\"))\n",
    "    \n",
    "    if(matrix2_flag):\n",
    "        matrix2.append(line1.split(\",\"))\n",
    "\n",
    "    if(no_of_core_flag):\n",
    "        no_of_cores = int(line1)\n",
    "        no_of_core_flag = False\n",
    "print (matrix1)\n",
    "print (matrix2)"
   ]
  },
  {
   "cell_type": "markdown",
   "metadata": {},
   "source": []
  },
  {
   "cell_type": "code",
   "execution_count": 3,
   "metadata": {},
   "outputs": [],
   "source": [
    "M = len(matrix1)\n",
    "N = len(matrix1[0])\n",
    "K = len(matrix2[0])"
   ]
  },
  {
   "cell_type": "code",
   "execution_count": 4,
   "metadata": {},
   "outputs": [
    {
     "name": "stdout",
     "output_type": "stream",
     "text": [
      "10\n"
     ]
    }
   ],
   "source": [
    "print (M)"
   ]
  },
  {
   "cell_type": "code",
   "execution_count": 5,
   "metadata": {},
   "outputs": [],
   "source": [
    "T1 = [0,0,0,0]  #rows for cores\n",
    "T7 = 4  #N\n",
    "T2 = 5  #M\n",
    "T3 = T2 + (M*N) + 1  #K\n",
    "T4 = T2 + 1  #1ST MAT\n",
    "T5 = T3 + 1  #2ND MAT\n",
    "T6 = T5 + (K*N) + 1 #3RD MAT"
   ]
  },
  {
   "cell_type": "code",
   "execution_count": 6,
   "metadata": {},
   "outputs": [
    {
     "name": "stdout",
     "output_type": "stream",
     "text": [
      "[0, 0, 0, 0]\n",
      "5\n",
      "76\n",
      "6\n",
      "77\n",
      "106\n"
     ]
    }
   ],
   "source": [
    "print (T1)\n",
    "print (T2)\n",
    "print (T3)\n",
    "print (T4)\n",
    "print (T5)\n",
    "print (T6)"
   ]
  },
  {
   "cell_type": "code",
   "execution_count": 7,
   "metadata": {},
   "outputs": [
    {
     "name": "stdout",
     "output_type": "stream",
     "text": [
      "[4, 3, 3, 0]\n",
      "counter: 0\n",
      "M: 10\n",
      "No. of cores: 3\n"
     ]
    }
   ],
   "source": [
    "#M = 16\n",
    "counter = M\n",
    "#T1 = [0,0,0,0]\n",
    "#no_of_cores = 4\n",
    "for i in range (no_of_cores):\n",
    "    while (counter >= (no_of_cores-i)):\n",
    "        for j in range(no_of_cores-i):\n",
    "            T1[j] += 1\n",
    "            counter -= 1\n",
    "\n",
    "print (T1)\n",
    "print (\"counter:\", counter)\n",
    "print (\"M:\", M)\n",
    "print (\"No. of cores:\", no_of_cores)"
   ]
  },
  {
   "cell_type": "code",
   "execution_count": 8,
   "metadata": {},
   "outputs": [],
   "source": [
    "d_mem_txt = \"\"\n",
    "\n",
    "#T1_1\n",
    "d_mem_txt = d_mem_txt + hex(T1[0])[2:] + \"\\n\"\n",
    "#T1_2\n",
    "d_mem_txt = d_mem_txt + hex(T1[1])[2:] + \"\\n\"\n",
    "#T1_3\n",
    "d_mem_txt = d_mem_txt + hex(T1[2])[2:] + \"\\n\"\n",
    "#T1_4\n",
    "d_mem_txt = d_mem_txt + hex(T1[3])[2:] + \"\\n\"\n",
    "#M&N of Matrix 1\n",
    "d_mem_txt = d_mem_txt + hex(M)[2:] + \"\\n\" + hex(N)[2:] + \"\\n\"\n",
    "\n",
    "for i in range(N):\n",
    "    for j in range(M):\n",
    "        d_mem_txt = d_mem_txt + hex(int(matrix1[j][i]))[2:] + \"\\n\"\n",
    "\n",
    "d_mem_txt = d_mem_txt + hex(K)[2:] + \"\\n\"\n",
    "\n",
    "for k in range(K):\n",
    "    for l in range(N):\n",
    "        d_mem_txt = d_mem_txt + hex(int(matrix2[l][k]))[2:] + \"\\n\"\n",
    "#print (d_mem_txt)"
   ]
  },
  {
   "cell_type": "code",
   "execution_count": 9,
   "metadata": {},
   "outputs": [],
   "source": [
    "out.write(d_mem_txt.strip())\n",
    "\n",
    "fd.close()\n",
    "out.close()"
   ]
  },
  {
   "cell_type": "markdown",
   "metadata": {},
   "source": [
    "Instruction Memory"
   ]
  },
  {
   "cell_type": "code",
   "execution_count": 10,
   "metadata": {},
   "outputs": [],
   "source": [
    "fd = open(\"algo.txt\", \"r\")\n",
    "machine_code = open(\"D:\\\\Academic\\\\ACA\\\\SEM5 TRONIC ACA\\\\SEMESTER 5\\\\CSD\\\\FPGA\\\\MULTI_CORE_edit\\\\ins_mem.txt\", \"w\")"
   ]
  },
  {
   "cell_type": "code",
   "execution_count": 11,
   "metadata": {},
   "outputs": [],
   "source": [
    "comp_dic = {\"NOOP\": \"00\", \"JPNZM\": \"10\", \"JPNZK\":\"11\", \"JPNZN\":\"12\", \"COPYRm1\":\"20\", \"COPYRk1\":\"21\", \"COPYRn1\":\"22\", \\\n",
    "            \"COPYRr1\":\"23\", \"LOADC1\":\"30\", \"LOADC2\":\"31\", \"STORE\":\"40\", \"ASSIGNC1\":\"50\", \"ASSIGNC2\":\"51\", \"RESETALL\":\"60\", \\\n",
    "            \"RESETRn2\":\"61\", \"RESETRk2\":\"62\", \"RESETRt\":\"63\", \"MOVERp\":\"70\", \"MOVERt\":\"71\", \"MOVEC1\":\"72\", \"MOVEC3\":\"73\", \\\n",
    "            \"SETC1\":\"80\", \"SETDR\":\"81\", \"SETRk1\":\"82\", \"MULRp\":\"90\", \"MUL_CORE\":\"9F\", \"ADDRt\":\"A0\", \"ADDRr1\":\"A1\", \\\n",
    "            \"ADDRm2\":\"A2\", \"ADD_MEM\":\"A3\", \"INCC2\":\"B0\", \"INCC3\":\"B1\", \"INCRm2\":\"B2\", \"INCRk2\":\"B3\", \"INCRn2\":\"B4\", \\\n",
    "            \"END\":\"C0\", \"CHK_IDLE\":\"D0\"}\n",
    "\n",
    "#rows_per_core starting location in d_mem \n",
    "comp_dic[\"T1\"] = \"0\"\n",
    "#no_of_rows Matrix 1 (d_mem location)\n",
    "comp_dic[\"T7\"] = hex(T7)[2:]\n",
    "#no_of_columns Matrix 1 (d_mem location)\n",
    "comp_dic[\"T2\"] = hex(T2)[2:]\n",
    "#no_of_columns Matrix 2 (d_mem location)\n",
    "comp_dic[\"T3\"] = hex(T3)[2:]\n",
    "#Starting_point Matrix 1 (d_mem location)\n",
    "comp_dic[\"T4\"] = hex(T4)[2:]\n",
    "#Starting_point Matrix 2 (d_mem location)\n",
    "comp_dic[\"T5\"] = hex(T5)[2:]\n",
    "\n"
   ]
  },
  {
   "cell_type": "code",
   "execution_count": 12,
   "metadata": {},
   "outputs": [],
   "source": [
    "mchine_txt = \"\"\n",
    "addr_flag = False\n",
    "for line in fd:\n",
    "    line_1 = line.strip()\n",
    "    #print (line)\n",
    "    if (addr_flag):\n",
    "        mchine_txt = mchine_txt + line_1 + \"\\n\"\n",
    "        addr_flag = False\n",
    "        continue\n",
    "    else:\n",
    "        op_code = comp_dic.get(line_1)\n",
    "        #print (op_code)\n",
    "        if (op_code == None):\n",
    "            continue\n",
    "        mchine_txt = mchine_txt + op_code + \"\\n\"\n",
    "    \n",
    "    if (line_1 == \"JPNZM\" or line_1 == \"JPNZK\" or line_1 == \"JPNZN\"):\n",
    "        addr_flag = True"
   ]
  },
  {
   "cell_type": "code",
   "execution_count": 13,
   "metadata": {},
   "outputs": [],
   "source": [
    "machine_code.write(mchine_txt.strip())\n",
    "fd.close()\n",
    "machine_code.close()\n"
   ]
  },
  {
   "cell_type": "markdown",
   "metadata": {},
   "source": [
    "Matrix Multiplication"
   ]
  },
  {
   "cell_type": "code",
   "execution_count": 14,
   "metadata": {},
   "outputs": [
    {
     "name": "stdout",
     "output_type": "stream",
     "text": [
      "[[1, 2, 2, 1, 1, 2, 1], [1, 1, 1, 2, 1, 1, 1], [1, 2, 1, 1, 1, 1, 1], [5, 2, 1, 2, 1, 1, 1], [1, 1, 1, 1, 1, 3, 1], [1, 1, 4, 1, 1, 8, 1], [1, 4, 1, 1, 6, 1, 1], [1, 1, 6, 1, 1, 3, 1], [1, 2, 4, 1, 3, 1, 1], [1, 1, 3, 3, 1, 1, 1]]\n",
      "[[1, 1, 1, 1], [1, 3, 1, 1], [1, 1, 1, 6], [1, 5, 1, 1], [1, 1, 1, 1], [1, 1, 1, 1], [1, 1, 2, 1]]\n"
     ]
    }
   ],
   "source": [
    "new_mat1 = []\n",
    "new_mat2 = []\n",
    "for i in matrix1:\n",
    "    new_mat1.append(list(map(int, i)))\n",
    "for j in matrix2:\n",
    "    new_mat2.append(list(map(int, j)))\n",
    "print (new_mat1)\n",
    "print (new_mat2)"
   ]
  },
  {
   "cell_type": "code",
   "execution_count": 15,
   "metadata": {},
   "outputs": [],
   "source": [
    "import numpy as np\n",
    "\n",
    "mat1 = np.array(new_mat1)\n",
    "mat2 = np.array(new_mat2)\n",
    "\n",
    "final.write(\"\\n\" + \"\\n\" + \"Multiplied Matrix(From python)\" + \"\\n\")\n",
    "final.write(str(np.matmul(mat1, mat2)))\n",
    "final.close()"
   ]
  }
 ],
 "metadata": {
  "kernelspec": {
   "display_name": "Python 3",
   "language": "python",
   "name": "python3"
  },
  "language_info": {
   "codemirror_mode": {
    "name": "ipython",
    "version": 3
   },
   "file_extension": ".py",
   "mimetype": "text/x-python",
   "name": "python",
   "nbconvert_exporter": "python",
   "pygments_lexer": "ipython3",
   "version": "3.6.4"
  }
 },
 "nbformat": 4,
 "nbformat_minor": 2
}
