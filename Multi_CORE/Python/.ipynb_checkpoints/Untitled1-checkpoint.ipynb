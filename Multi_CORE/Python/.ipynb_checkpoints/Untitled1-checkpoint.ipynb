{
 "cells": [
  {
   "cell_type": "code",
   "execution_count": null,
   "metadata": {},
   "outputs": [],
   "source": [
    "fd = open(\"matrix.txt\", \"r\")\n",
    "out = open(\"data_mem.txt\", \"w\")"
   ]
  },
  {
   "cell_type": "code",
   "execution_count": null,
   "metadata": {},
   "outputs": [],
   "source": [
    "matrix1 = []\n",
    "matrix2 = []\n",
    "\n",
    "matrix1_flag = False\n",
    "matrix2_flag = False\n",
    "\n",
    "for line in fd:\n",
    "    \n",
    "    line1 = line.strip()\n",
    "    \n",
    "    if (line1 == \"Matrix 1:\"):\n",
    "        matrix1_flag = True\n",
    "        matrix2_flag = False\n",
    "\n",
    "    if (line1 == \"Matrix 2:\"):\n",
    "        matrix1_flag = False\n",
    "        matrix2_flag = True\n",
    "        \n",
    "    if(matrix1_flag):\n",
    "        matrix1.append(line1.split(\",\"))\n",
    "    \n",
    "    if(matrix2_flag):\n",
    "        matrix2.append(line1.split(\",\"))"
   ]
  },
  {
   "cell_type": "code",
   "execution_count": null,
   "metadata": {},
   "outputs": [],
   "source": [
    "M = len(matrix1)\n",
    "N = len(matrix1[0])\n",
    "K = len(matrix2[0])"
   ]
  },
  {
   "cell_type": "code",
   "execution_count": null,
   "metadata": {},
   "outputs": [],
   "source": [
    "d_mem_txt = \"\"\n",
    "\n",
    "d_mem_txt = d_mem_txt + hex(M)[2:] + \"/n\" + hex(N)[2:] + \"/n\"\n",
    "\n",
    "for i in range(N):\n",
    "    for j in range(M):\n",
    "        d_mem_txt = d_mem_txt + hex(matrix1[j][i])[2:] + \"/n\"\n",
    "\n",
    "d_mem_txt = d_mem_txt + hex(K)[2:] + \"/n\"\n",
    "        \n",
    "for k in range(K):\n",
    "    for l in range(N):\n",
    "        d_mem_txt = d_mem_txt + hex(matrix1[k][l])[2:] + \"/n\""
   ]
  },
  {
   "cell_type": "code",
   "execution_count": null,
   "metadata": {},
   "outputs": [],
   "source": [
    "out.write(d_mem_txt.strip())\n",
    "\n",
    "fd.close()\n",
    "out.write()"
   ]
  }
 ],
 "metadata": {
  "kernelspec": {
   "display_name": "Python 3",
   "language": "python",
   "name": "python3"
  },
  "language_info": {
   "codemirror_mode": {
    "name": "ipython",
    "version": 3
   },
   "file_extension": ".py",
   "mimetype": "text/x-python",
   "name": "python",
   "nbconvert_exporter": "python",
   "pygments_lexer": "ipython3",
   "version": "3.6.4"
  }
 },
 "nbformat": 4,
 "nbformat_minor": 2
}
