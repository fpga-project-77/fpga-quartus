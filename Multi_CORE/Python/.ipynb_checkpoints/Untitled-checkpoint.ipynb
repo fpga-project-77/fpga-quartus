{
 "cells": [
  {
   "cell_type": "code",
   "execution_count": 1,
   "metadata": {},
   "outputs": [],
   "source": [
    "fd = open(\"matrix.txt\", \"r\")\n",
    "out = open(\"data_mem.txt\", \"w\")"
   ]
  },
  {
   "cell_type": "code",
   "execution_count": 2,
   "metadata": {},
   "outputs": [],
   "source": [
    "matrix1 = []\n",
    "matrix2 = []\n",
    "\n",
    "matrix1_flag = False\n",
    "matrix2_flag = False\n",
    "\n",
    "for line in fd:\n",
    "    \n",
    "    line1 = line.strip()\n",
    "    \n",
    "    if (line1 == \"Matrix 1:\"):\n",
    "        matrix1_flag = True\n",
    "        matrix2_flag = False\n",
    "        continue\n",
    "\n",
    "    if (line1 == \"Matrix 2:\"):\n",
    "        matrix1_flag = False\n",
    "        matrix2_flag = True\n",
    "        continue\n",
    "        \n",
    "    if(matrix1_flag):\n",
    "        matrix1.append(line1.split(\",\"))\n",
    "    \n",
    "    if(matrix2_flag):\n",
    "        matrix2.append(line1.split(\",\"))"
   ]
  },
  {
   "cell_type": "code",
   "execution_count": 3,
   "metadata": {},
   "outputs": [],
   "source": [
    "M = len(matrix1)\n",
    "N = len(matrix1[0])\n",
    "K = len(matrix2[0])"
   ]
  },
  {
   "cell_type": "code",
   "execution_count": 4,
   "metadata": {},
   "outputs": [],
   "source": [
    "d_mem_txt = \"\"\n",
    "\n",
    "d_mem_txt = d_mem_txt + hex(M)[2:] + \"\\n\" + hex(N)[2:] + \"\\n\"\n",
    "\n",
    "for i in range(N):\n",
    "    for j in range(M):\n",
    "        d_mem_txt = d_mem_txt + hex(int(matrix1[j][i]))[2:] + \"\\n\"\n",
    "\n",
    "d_mem_txt = d_mem_txt + hex(K)[2:] + \"\\n\"\n",
    "        \n",
    "for k in range(K):\n",
    "    for l in range(N):\n",
    "        d_mem_txt = d_mem_txt + hex(int(matrix2[l][k]))[2:] + \"\\n\""
   ]
  },
  {
   "cell_type": "code",
   "execution_count": 5,
   "metadata": {},
   "outputs": [],
   "source": [
    "out.write(d_mem_txt.strip())\n",
    "\n",
    "fd.close()\n",
    "out.close()"
   ]
  },
  {
   "cell_type": "markdown",
   "metadata": {},
   "source": [
    "Instruction Memory"
   ]
  },
  {
   "cell_type": "code",
   "execution_count": 6,
   "metadata": {},
   "outputs": [],
   "source": [
    "fd = open(\"algo.txt\", \"r\")\n",
    "machine_code = open(\"ins_mem.txt\", \"w\")"
   ]
  },
  {
   "cell_type": "code",
   "execution_count": null,
   "metadata": {},
   "outputs": [],
   "source": [
    "comp_dic = {\"NOOP\": \"00\", \"JPNZM\": \"10\", \"JPNZK\":\"11\", \"JPNZN\":\"12\", \"COPYRm1\":\"20\", \"COPYRk1\":\"21\", \"COPYRn1\":\"22\", \"LOADC1\":\"30\", \"LOADC2\":\"31\", \"STORE\":\"40\", \"ASSIGNC1\":\"50\", \"ASSIGNC2\":\"51\", \"ASSIGNC3\":\"52\", \"RESETALL\":\"60\", \"RESETRn2\":\"61\", \"RESETRk2\":\"62\", \"RESETRt\":\"63\", \"MOVERp\":\"70\", \"MOVERt\":\"71\", \"MOVEC1\":\"72\", \"SETC1\":\"80\", \"SETDR\":\"81\", \"MULRp\":\"90\", \"ADDRt\":\"A0\", \"ADDRm1\":\"A1\", \"ADDRm2\":\"A2\", \"INCC2\":\"B0\", \"INCC3\":\"B1\", \"INCRm2\":\"B2\", \"INCRk2\":\"B3\", \"INCRn2\":\"B4\", \"END\":\"C0\"}"
   ]
  },
  {
   "cell_type": "code",
   "execution_count": 7,
   "metadata": {},
   "outputs": [
    {
     "name": "stdout",
     "output_type": "stream",
     "text": [
      "COPYRm1\n",
      "\n"
     ]
    },
    {
     "ename": "NameError",
     "evalue": "name 'comp_dic' is not defined",
     "output_type": "error",
     "traceback": [
      "\u001b[1;31m---------------------------------------------------------------------------\u001b[0m",
      "\u001b[1;31mNameError\u001b[0m                                 Traceback (most recent call last)",
      "\u001b[1;32m<ipython-input-7-a32c58c0a93d>\u001b[0m in \u001b[0;36m<module>\u001b[1;34m()\u001b[0m\n\u001b[0;32m      9\u001b[0m         \u001b[1;32mcontinue\u001b[0m\u001b[1;33m\u001b[0m\u001b[0m\n\u001b[0;32m     10\u001b[0m     \u001b[1;32melse\u001b[0m\u001b[1;33m:\u001b[0m\u001b[1;33m\u001b[0m\u001b[0m\n\u001b[1;32m---> 11\u001b[1;33m         \u001b[0mop_code\u001b[0m \u001b[1;33m=\u001b[0m \u001b[0mcomp_dic\u001b[0m\u001b[1;33m.\u001b[0m\u001b[0mget\u001b[0m\u001b[1;33m(\u001b[0m\u001b[0mline_1\u001b[0m\u001b[1;33m)\u001b[0m\u001b[1;33m\u001b[0m\u001b[0m\n\u001b[0m\u001b[0;32m     12\u001b[0m         \u001b[0mprint\u001b[0m \u001b[1;33m(\u001b[0m\u001b[0mop_code\u001b[0m\u001b[1;33m)\u001b[0m\u001b[1;33m\u001b[0m\u001b[0m\n\u001b[0;32m     13\u001b[0m         \u001b[1;32mif\u001b[0m \u001b[1;33m(\u001b[0m\u001b[0mop_code\u001b[0m \u001b[1;33m==\u001b[0m \u001b[1;32mNone\u001b[0m\u001b[1;33m)\u001b[0m\u001b[1;33m:\u001b[0m\u001b[1;33m\u001b[0m\u001b[0m\n",
      "\u001b[1;31mNameError\u001b[0m: name 'comp_dic' is not defined"
     ]
    }
   ],
   "source": [
    "mchine_txt = \"\"\n",
    "addr_flag = False\n",
    "for line in fd:\n",
    "    line_1 = line.strip()\n",
    "    print (line)\n",
    "    if (addr_flag):\n",
    "        mchine_txt = mchine_txt + line_1 + \"\\n\"\n",
    "        addr_flag = False\n",
    "        continue\n",
    "    else:\n",
    "        op_code = comp_dic.get(line_1)\n",
    "        print (op_code)\n",
    "        if (op_code == None):\n",
    "            continue\n",
    "        mchine_txt = mchine_txt + op_code + \"\\n\"\n",
    "    \n",
    "    if (line_1 == \"COPYRm1\" or line_1 == \"COPYRk1\" or line_1 == \"COPYRn1\" or line_1 == \"ASSIGNC1\" or line_1 == \"ASSIGNC2\"or line_1 == \"ASSIGNC3\"or line_1 == \"JPNZM\" or line_1 == \"JPNZK\" or line_1 == \"JPNZN\"):\n",
    "        addr_flag = True"
   ]
  },
  {
   "cell_type": "code",
   "execution_count": null,
   "metadata": {},
   "outputs": [],
   "source": [
    "machine_code.write(mchine_txt.strip())\n",
    "fd.close()\n",
    "machine_code.close()"
   ]
  }
 ],
 "metadata": {
  "kernelspec": {
   "display_name": "Python 3",
   "language": "python",
   "name": "python3"
  },
  "language_info": {
   "codemirror_mode": {
    "name": "ipython",
    "version": 3
   },
   "file_extension": ".py",
   "mimetype": "text/x-python",
   "name": "python",
   "nbconvert_exporter": "python",
   "pygments_lexer": "ipython3",
   "version": "3.6.4"
  }
 },
 "nbformat": 4,
 "nbformat_minor": 2
}
