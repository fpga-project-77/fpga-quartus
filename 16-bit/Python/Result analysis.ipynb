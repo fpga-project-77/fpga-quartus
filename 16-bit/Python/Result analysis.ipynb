{
 "cells": [
  {
   "cell_type": "code",
   "execution_count": 1,
   "metadata": {},
   "outputs": [],
   "source": [
    "from ast import literal_eval"
   ]
  },
  {
   "cell_type": "code",
   "execution_count": 2,
   "metadata": {},
   "outputs": [],
   "source": [
    "final = open (\"final.txt\", \"a\")\n",
    "result = open (\"D:\\\\Academic\\\\ACA\\\\SEM5 TRONIC ACA\\\\SEMESTER 5\\\\CSD\\\\FPGA\\\\00 - Git\\\\fpga-quartus\\\\_CORE\\\\MULTI_CORE_edit\\\\result.txt\", \"r\")\n",
    "d_mem = open (\"D:\\\\Academic\\\\ACA\\\\SEM5 TRONIC ACA\\\\SEMESTER 5\\\\CSD\\\\FPGA\\\\00 - Git\\\\fpga-quartus\\\\Multi_CORE\\\\MULTI_CORE_edit\\\\data_mem.txt\", \"r\")"
   ]
  },
  {
   "cell_type": "code",
   "execution_count": 3,
   "metadata": {},
   "outputs": [],
   "source": [
    "core_1_rows = int(literal_eval('0x' + d_mem.readline().strip()))\n",
    "core_2_rows = int(literal_eval('0x' + d_mem.readline().strip()))\n",
    "core_3_rows = int(literal_eval('0x' + d_mem.readline().strip()))\n",
    "core_4_rows = int(literal_eval('0x' + d_mem.readline().strip()))\n",
    "core_5_rows = int(literal_eval('0x' + d_mem.readline().strip()))\n",
    "core_6_rows = int(literal_eval('0x' + d_mem.readline().strip()))\n",
    "core_7_rows = int(literal_eval('0x' + d_mem.readline().strip()))\n",
    "core_8_rows = int(literal_eval('0x' + d_mem.readline().strip()))\n",
    "core_rows = [core_1_rows, core_2_rows, core_3_rows, core_4_rows, core_5_rows, core_6_rows, core_7_rows, core_8_rows]\n",
    "M = int(literal_eval('0x' + d_mem.readline().strip()))\n",
    "N = int(literal_eval('0x' + d_mem.readline().strip()))"
   ]
  },
  {
   "cell_type": "code",
   "execution_count": 4,
   "metadata": {},
   "outputs": [],
   "source": [
    "mem_start_core_1 = 127 + 3\n",
    "mem_start_core_1 = 143 + 3\n",
    "mem_start_core_4 = 159 + 3\n",
    "mem_start_core_1 = 175 + 3\n",
    "mem_start_core_2 = 191 + 3\n",
    "mem_start_core_1 = 207 + 3\n",
    "mem_start_core_3 = 223 + 3\n",
    "mem_start_core_1 = 239 + 3"
   ]
  },
  {
   "cell_type": "code",
   "execution_count": 5,
   "metadata": {},
   "outputs": [
    {
     "name": "stdout",
     "output_type": "stream",
     "text": [
      "[[13, 33, 14, 33, 10, 26, 11, 20, 9, 23, 10, 19], [22, 36, 23, 47, 21, 41, 22, 41], [13, 31, 14, 23, 14, 38, 15, 34, 23, 77, 24, 83], [22, 40, 23, 32, 22, 46, 23, 67]]\n"
     ]
    }
   ],
   "source": [
    "count = 0\n",
    "matt = []\n",
    "row = []\n",
    "for i in result:\n",
    "    if (core_2_rows == core_3_rows == core_4_rows == 0):\n",
    "        if((mem_start_core_1 <= count < 255) and (i != \"xx\\n\")):\n",
    "            x = '0x' + i.strip()\n",
    "            row.append(literal_eval(x))\n",
    "    elif ((core_1_rows >= 1 and core_2_rows >= 1) and (core_3_rows == core_4_rows == 0)):\n",
    "        if((mem_start_core_1 <= count < mem_start_core_2) and (i != \"xx\\n\")):\n",
    "            x = '0x' + i.strip()\n",
    "            row.append(literal_eval(x)) \n",
    "        if (count == mem_start_core_2):\n",
    "            matt.append(row)\n",
    "            row = []\n",
    "        if((mem_start_core_2 <= count < 255) and (i != \"xx\\n\")):\n",
    "            x = '0x' + i.strip()\n",
    "            row.append(literal_eval(x))\n",
    "    else:\n",
    "        if((mem_start_core_1 <= count < mem_start_core_4) and (i != \"xx\\n\")):             #core1\n",
    "            x = '0x' + i.strip()\n",
    "            row.append(literal_eval(x))\n",
    "        if (count == mem_start_core_4):\n",
    "            matt.append(row)\n",
    "            row = []\n",
    "\n",
    "        if((mem_start_core_4 <= count < mem_start_core_2) and (i != \"xx\\n\")):             #core4\n",
    "            x = '0x' + i.strip()\n",
    "            row.append(literal_eval(x))\n",
    "        if (count == mem_start_core_2):\n",
    "            matt.append(row)\n",
    "            row = []\n",
    "\n",
    "        if((mem_start_core_2 <= count < mem_start_core_3) and (i != \"xx\\n\")):              #core2\n",
    "            x = '0x' + i.strip()\n",
    "            row.append(literal_eval(x))\n",
    "        if (count == mem_start_core_3):\n",
    "            matt.append(row)\n",
    "            row = []\n",
    "\n",
    "        if((mem_start_core_3 <= count) and (i != \"xx\\n\")):                                #core3\n",
    "            x = '0x' + i.strip()\n",
    "            row.append(literal_eval(x))\n",
    "    if (count == 255):\n",
    "        matt.append(row)\n",
    "        row = []\n",
    "    count += 1\n",
    "    \n",
    "print (matt)\n",
    "if(core_1_rows >= 1 and core_2_rows >= 1 and (core_3_rows >=1 or core_4_rows >= 1)):\n",
    "    matt = [matt[0], matt[2], matt[3], matt[1]]"
   ]
  },
  {
   "cell_type": "code",
   "execution_count": 6,
   "metadata": {},
   "outputs": [
    {
     "name": "stdout",
     "output_type": "stream",
     "text": [
      "[3, 3, 2, 2]\n",
      "12\n",
      "4\n",
      "12\n",
      "4\n",
      "8\n",
      "4\n",
      "8\n",
      "4\n",
      "[[13, 33, 14, 33], [10, 26, 11, 20], [9, 23, 10, 19], [13, 31, 14, 23], [14, 38, 15, 34], [23, 77, 24, 83], [22, 40, 23, 32], [22, 46, 23, 67], [22, 36, 23, 47], [21, 41, 22, 41]]\n"
     ]
    }
   ],
   "source": [
    "#matt = [[55, 35, 115,35, 55, 95,55, 35, 115]]\n",
    "#core_rows = [3,0,0,0]\n",
    "\n",
    "final_mat = []\n",
    "print (core_rows)\n",
    "for j in range(4):\n",
    "    if(core_rows[j] > 1):\n",
    "        l = len(matt[j])\n",
    "        print(l)\n",
    "        no_per_row = int(l/core_rows[j])\n",
    "        print (no_per_row)\n",
    "        counter = 0\n",
    "        while (counter != l):\n",
    "            row = []\n",
    "            for i in range(no_per_row):\n",
    "                row.append(matt[j][counter])\n",
    "                counter +=1\n",
    "            final_mat.append(row)\n",
    "            #counter += no_per_row\n",
    "    elif (core_rows[j] == 1):\n",
    "        final_mat.append(matt[j])\n",
    "print (final_mat)"
   ]
  },
  {
   "cell_type": "code",
   "execution_count": 7,
   "metadata": {},
   "outputs": [],
   "source": [
    "final.write(\"\\n\" + \"\\n\" + \"Multiplied Matrix(From FPGA)\" + \"\\n\")\n",
    "for i in final_mat:\n",
    "    final.write(str(i)) \n",
    "    final.write(\"\\n\")\n",
    "final.close()"
   ]
  }
 ],
 "metadata": {
  "interpreter": {
   "hash": "9d3bae0a0f66551680ef8a166f6b92cc2774d5d7901f027deb7bb883ed06d5ae"
  },
  "kernelspec": {
   "display_name": "Python 3",
   "language": "python",
   "name": "python3"
  },
  "language_info": {
   "codemirror_mode": {
    "name": "ipython",
    "version": 3
   },
   "file_extension": ".py",
   "mimetype": "text/x-python",
   "name": "python",
   "nbconvert_exporter": "python",
   "pygments_lexer": "ipython3",
   "version": "3.6.4"
  }
 },
 "nbformat": 4,
 "nbformat_minor": 2
}